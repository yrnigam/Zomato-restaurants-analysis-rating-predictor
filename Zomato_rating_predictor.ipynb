{
  "nbformat": 4,
  "nbformat_minor": 0,
  "metadata": {
    "kernelspec": {
      "display_name": "Python 3",
      "language": "python",
      "name": "python3"
    },
    "language_info": {
      "codemirror_mode": {
        "name": "ipython",
        "version": 3
      },
      "file_extension": ".py",
      "mimetype": "text/x-python",
      "name": "python",
      "nbconvert_exporter": "python",
      "pygments_lexer": "ipython3",
      "version": "3.7.3"
    },
    "colab": {
      "name": "Zomato rating predictor.ipynb",
      "provenance": []
    }
  },
  "cells": [
    {
      "cell_type": "markdown",
      "metadata": {
        "id": "9NdklJflSaC0",
        "colab_type": "text"
      },
      "source": [
        "### Exploratory Data Analysis"
      ]
    },
    {
      "cell_type": "code",
      "metadata": {
        "id": "1k4PKTulSaC4",
        "colab_type": "code",
        "colab": {}
      },
      "source": [
        "import pandas as pd"
      ],
      "execution_count": 0,
      "outputs": []
    },
    {
      "cell_type": "code",
      "metadata": {
        "id": "yHZeI-mlSaDB",
        "colab_type": "code",
        "colab": {}
      },
      "source": [
        "data=pd.read_excel(\"./zomato_train.xlsx\")"
      ],
      "execution_count": 0,
      "outputs": []
    },
    {
      "cell_type": "code",
      "metadata": {
        "id": "XU1v-78ESaDG",
        "colab_type": "code",
        "colab": {},
        "outputId": "14985714-d46d-4c52-d254-de9cbf6bb6b8"
      },
      "source": [
        "data.head()"
      ],
      "execution_count": 0,
      "outputs": [
        {
          "output_type": "execute_result",
          "data": {
            "text/html": [
              "<div>\n",
              "<style scoped>\n",
              "    .dataframe tbody tr th:only-of-type {\n",
              "        vertical-align: middle;\n",
              "    }\n",
              "\n",
              "    .dataframe tbody tr th {\n",
              "        vertical-align: top;\n",
              "    }\n",
              "\n",
              "    .dataframe thead th {\n",
              "        text-align: right;\n",
              "    }\n",
              "</style>\n",
              "<table border=\"1\" class=\"dataframe\">\n",
              "  <thead>\n",
              "    <tr style=\"text-align: right;\">\n",
              "      <th></th>\n",
              "      <th>url</th>\n",
              "      <th>address</th>\n",
              "      <th>name</th>\n",
              "      <th>online_order</th>\n",
              "      <th>book_table</th>\n",
              "      <th>votes</th>\n",
              "      <th>phone</th>\n",
              "      <th>location</th>\n",
              "      <th>rest_type</th>\n",
              "      <th>dish_liked</th>\n",
              "      <th>cuisines</th>\n",
              "      <th>approx_cost(for two people)</th>\n",
              "      <th>reviews_list</th>\n",
              "      <th>menu_item</th>\n",
              "      <th>listed_in(type)</th>\n",
              "      <th>listed_in(city)</th>\n",
              "      <th>rates</th>\n",
              "    </tr>\n",
              "  </thead>\n",
              "  <tbody>\n",
              "    <tr>\n",
              "      <th>0</th>\n",
              "      <td>https://www.zomato.com/bangalore/al-swaad-take...</td>\n",
              "      <td>18, Masjid Street, Opp Akbari Masjid Neelasand...</td>\n",
              "      <td>Al Swaad Take Away</td>\n",
              "      <td>Yes</td>\n",
              "      <td>No</td>\n",
              "      <td>13</td>\n",
              "      <td>+91 7019942388\\n+91 9902335220</td>\n",
              "      <td>Richmond Road</td>\n",
              "      <td>Quick Bites</td>\n",
              "      <td>NaN</td>\n",
              "      <td>North Indian, South Indian, Arabian</td>\n",
              "      <td>350</td>\n",
              "      <td>[('Rated 1.0', 'RATED\\n  If U need reasonable ...</td>\n",
              "      <td>['Beef Seekh Kabab', 'Beef BBQ Chops', 'Beef M...</td>\n",
              "      <td>Delivery</td>\n",
              "      <td>Residency Road</td>\n",
              "      <td>3.1</td>\n",
              "    </tr>\n",
              "    <tr>\n",
              "      <th>1</th>\n",
              "      <td>https://www.zomato.com/bangalore/the-boozy-gri...</td>\n",
              "      <td>2nd Floor, 1st A Cross Road, Jyothi Nivas Coll...</td>\n",
              "      <td>The Boozy Griffin</td>\n",
              "      <td>No</td>\n",
              "      <td>Yes</td>\n",
              "      <td>5015</td>\n",
              "      <td>080 33512954</td>\n",
              "      <td>Koramangala 5th Block</td>\n",
              "      <td>Casual Dining, Pub</td>\n",
              "      <td>Cocktails, Craft Beer, Salads, Devils Chicken,...</td>\n",
              "      <td>European, Continental</td>\n",
              "      <td>1,800</td>\n",
              "      <td>[('Rated 5.0', 'RATED\\n  Really great ambience...</td>\n",
              "      <td>[]</td>\n",
              "      <td>Dine-out</td>\n",
              "      <td>Koramangala 6th Block</td>\n",
              "      <td>4.6</td>\n",
              "    </tr>\n",
              "    <tr>\n",
              "      <th>2</th>\n",
              "      <td>https://www.zomato.com/bangalore/barkat-btm-ba...</td>\n",
              "      <td>28th, 8th Cross, Maruthi Nagar, Madiwala, BTM,...</td>\n",
              "      <td>Barkat</td>\n",
              "      <td>No</td>\n",
              "      <td>No</td>\n",
              "      <td>6</td>\n",
              "      <td>+91 9019670836</td>\n",
              "      <td>BTM</td>\n",
              "      <td>Quick Bites</td>\n",
              "      <td>NaN</td>\n",
              "      <td>Kerala</td>\n",
              "      <td>250</td>\n",
              "      <td>[]</td>\n",
              "      <td>[]</td>\n",
              "      <td>Dine-out</td>\n",
              "      <td>Koramangala 4th Block</td>\n",
              "      <td>3.4</td>\n",
              "    </tr>\n",
              "    <tr>\n",
              "      <th>3</th>\n",
              "      <td>https://www.zomato.com/bangalore/sriracha-lave...</td>\n",
              "      <td>204, 2nd Level, 4th Floor, Comet Block, UB Cit...</td>\n",
              "      <td>Sriracha</td>\n",
              "      <td>No</td>\n",
              "      <td>No</td>\n",
              "      <td>699</td>\n",
              "      <td>+91 8041755366\\n+91 7022422473</td>\n",
              "      <td>Lavelle Road</td>\n",
              "      <td>Casual Dining</td>\n",
              "      <td>Noodles, Laksa, Cocktails, Dumplings, Sangria,...</td>\n",
              "      <td>Thai, Chinese, Indonesian, Asian, Momos</td>\n",
              "      <td>1,500</td>\n",
              "      <td>[('Rated 3.0', 'RATED\\n  Another restaurant in...</td>\n",
              "      <td>[]</td>\n",
              "      <td>Dine-out</td>\n",
              "      <td>Residency Road</td>\n",
              "      <td>4.3</td>\n",
              "    </tr>\n",
              "    <tr>\n",
              "      <th>4</th>\n",
              "      <td>https://www.zomato.com/bangalore/sri-ganesh-ju...</td>\n",
              "      <td>513, Opposite Ganesh Temple, Koramangala 8th B...</td>\n",
              "      <td>Sri Ganesh Juice Junction</td>\n",
              "      <td>Yes</td>\n",
              "      <td>No</td>\n",
              "      <td>129</td>\n",
              "      <td>+91 9845623889</td>\n",
              "      <td>Koramangala 8th Block</td>\n",
              "      <td>Beverage Shop</td>\n",
              "      <td>NaN</td>\n",
              "      <td>Juices, Fast Food</td>\n",
              "      <td>150</td>\n",
              "      <td>[('Rated 4.0', 'RATED\\n  Good cafe with most v...</td>\n",
              "      <td>['Dry Fruit Milkshake', 'Wheat Grass with Wate...</td>\n",
              "      <td>Delivery</td>\n",
              "      <td>Koramangala 6th Block</td>\n",
              "      <td>3.7</td>\n",
              "    </tr>\n",
              "  </tbody>\n",
              "</table>\n",
              "</div>"
            ],
            "text/plain": [
              "                                                 url  \\\n",
              "0  https://www.zomato.com/bangalore/al-swaad-take...   \n",
              "1  https://www.zomato.com/bangalore/the-boozy-gri...   \n",
              "2  https://www.zomato.com/bangalore/barkat-btm-ba...   \n",
              "3  https://www.zomato.com/bangalore/sriracha-lave...   \n",
              "4  https://www.zomato.com/bangalore/sri-ganesh-ju...   \n",
              "\n",
              "                                             address  \\\n",
              "0  18, Masjid Street, Opp Akbari Masjid Neelasand...   \n",
              "1  2nd Floor, 1st A Cross Road, Jyothi Nivas Coll...   \n",
              "2  28th, 8th Cross, Maruthi Nagar, Madiwala, BTM,...   \n",
              "3  204, 2nd Level, 4th Floor, Comet Block, UB Cit...   \n",
              "4  513, Opposite Ganesh Temple, Koramangala 8th B...   \n",
              "\n",
              "                        name online_order book_table  votes  \\\n",
              "0         Al Swaad Take Away          Yes         No     13   \n",
              "1          The Boozy Griffin           No        Yes   5015   \n",
              "2                     Barkat           No         No      6   \n",
              "3                   Sriracha           No         No    699   \n",
              "4  Sri Ganesh Juice Junction          Yes         No    129   \n",
              "\n",
              "                            phone               location           rest_type  \\\n",
              "0  +91 7019942388\\n+91 9902335220          Richmond Road         Quick Bites   \n",
              "1                    080 33512954  Koramangala 5th Block  Casual Dining, Pub   \n",
              "2                  +91 9019670836                    BTM         Quick Bites   \n",
              "3  +91 8041755366\\n+91 7022422473           Lavelle Road       Casual Dining   \n",
              "4                  +91 9845623889  Koramangala 8th Block       Beverage Shop   \n",
              "\n",
              "                                          dish_liked  \\\n",
              "0                                                NaN   \n",
              "1  Cocktails, Craft Beer, Salads, Devils Chicken,...   \n",
              "2                                                NaN   \n",
              "3  Noodles, Laksa, Cocktails, Dumplings, Sangria,...   \n",
              "4                                                NaN   \n",
              "\n",
              "                                  cuisines approx_cost(for two people)  \\\n",
              "0      North Indian, South Indian, Arabian                         350   \n",
              "1                    European, Continental                       1,800   \n",
              "2                                   Kerala                         250   \n",
              "3  Thai, Chinese, Indonesian, Asian, Momos                       1,500   \n",
              "4                        Juices, Fast Food                         150   \n",
              "\n",
              "                                        reviews_list  \\\n",
              "0  [('Rated 1.0', 'RATED\\n  If U need reasonable ...   \n",
              "1  [('Rated 5.0', 'RATED\\n  Really great ambience...   \n",
              "2                                                 []   \n",
              "3  [('Rated 3.0', 'RATED\\n  Another restaurant in...   \n",
              "4  [('Rated 4.0', 'RATED\\n  Good cafe with most v...   \n",
              "\n",
              "                                           menu_item listed_in(type)  \\\n",
              "0  ['Beef Seekh Kabab', 'Beef BBQ Chops', 'Beef M...        Delivery   \n",
              "1                                                 []        Dine-out   \n",
              "2                                                 []        Dine-out   \n",
              "3                                                 []        Dine-out   \n",
              "4  ['Dry Fruit Milkshake', 'Wheat Grass with Wate...        Delivery   \n",
              "\n",
              "         listed_in(city) rates  \n",
              "0         Residency Road  3.1   \n",
              "1  Koramangala 6th Block  4.6   \n",
              "2  Koramangala 4th Block  3.4   \n",
              "3         Residency Road  4.3   \n",
              "4  Koramangala 6th Block  3.7   "
            ]
          },
          "metadata": {
            "tags": []
          },
          "execution_count": 50
        }
      ]
    },
    {
      "cell_type": "code",
      "metadata": {
        "id": "9fFZt-PNSaDN",
        "colab_type": "code",
        "colab": {},
        "outputId": "f7be3da7-0aa5-4c4a-a83b-0255e70eb9cb"
      },
      "source": [
        "#Checking null values\n",
        "data.isnull().sum()"
      ],
      "execution_count": 0,
      "outputs": [
        {
          "output_type": "execute_result",
          "data": {
            "text/plain": [
              "url                                0\n",
              "address                            0\n",
              "name                               0\n",
              "online_order                       0\n",
              "book_table                         0\n",
              "votes                              0\n",
              "phone                            971\n",
              "location                          15\n",
              "rest_type                        175\n",
              "dish_liked                     22472\n",
              "cuisines                          32\n",
              "approx_cost(for two people)      279\n",
              "reviews_list                       0\n",
              "menu_item                          0\n",
              "listed_in(type)                    0\n",
              "listed_in(city)                    0\n",
              "rates                           7981\n",
              "dtype: int64"
            ]
          },
          "metadata": {
            "tags": []
          },
          "execution_count": 51
        }
      ]
    },
    {
      "cell_type": "code",
      "metadata": {
        "id": "-Vya_Ki8SaDW",
        "colab_type": "code",
        "colab": {},
        "outputId": "f88338ce-3c8a-4155-8219-cda12e90bb6a"
      },
      "source": [
        "data.shape"
      ],
      "execution_count": 0,
      "outputs": [
        {
          "output_type": "execute_result",
          "data": {
            "text/plain": [
              "(41373, 17)"
            ]
          },
          "metadata": {
            "tags": []
          },
          "execution_count": 52
        }
      ]
    },
    {
      "cell_type": "code",
      "metadata": {
        "id": "EIhpr_JYSaDb",
        "colab_type": "code",
        "colab": {},
        "outputId": "852f01aa-d6cd-48d2-8f3c-32b560ece706"
      },
      "source": [
        "data.info()"
      ],
      "execution_count": 0,
      "outputs": [
        {
          "output_type": "stream",
          "text": [
            "<class 'pandas.core.frame.DataFrame'>\n",
            "RangeIndex: 41373 entries, 0 to 41372\n",
            "Data columns (total 17 columns):\n",
            "url                            41373 non-null object\n",
            "address                        41373 non-null object\n",
            "name                           41373 non-null object\n",
            "online_order                   41373 non-null object\n",
            "book_table                     41373 non-null object\n",
            "votes                          41373 non-null int64\n",
            "phone                          40402 non-null object\n",
            "location                       41358 non-null object\n",
            "rest_type                      41198 non-null object\n",
            "dish_liked                     18901 non-null object\n",
            "cuisines                       41341 non-null object\n",
            "approx_cost(for two people)    41094 non-null object\n",
            "reviews_list                   41373 non-null object\n",
            "menu_item                      41373 non-null object\n",
            "listed_in(type)                41373 non-null object\n",
            "listed_in(city)                41373 non-null object\n",
            "rates                          33392 non-null object\n",
            "dtypes: int64(1), object(16)\n",
            "memory usage: 5.4+ MB\n"
          ],
          "name": "stdout"
        }
      ]
    },
    {
      "cell_type": "code",
      "metadata": {
        "id": "JJj0etLGSaDi",
        "colab_type": "code",
        "colab": {},
        "outputId": "3c4b0e6d-db5e-48f7-98cd-b6b68b191349"
      },
      "source": [
        "data.online_order.value_counts()"
      ],
      "execution_count": 0,
      "outputs": [
        {
          "output_type": "execute_result",
          "data": {
            "text/plain": [
              "Yes    24330\n",
              "No     17043\n",
              "Name: online_order, dtype: int64"
            ]
          },
          "metadata": {
            "tags": []
          },
          "execution_count": 54
        }
      ]
    },
    {
      "cell_type": "code",
      "metadata": {
        "id": "FbnM8-PZSaDn",
        "colab_type": "code",
        "colab": {},
        "outputId": "8d8a7646-077f-45ce-8367-2708e549be4a"
      },
      "source": [
        "import seaborn as sns\n",
        "print(sns.countplot(x=data['online_order']))"
      ],
      "execution_count": 0,
      "outputs": [
        {
          "output_type": "stream",
          "text": [
            "AxesSubplot(0.125,0.125;0.775x0.755)\n"
          ],
          "name": "stdout"
        },
        {
          "output_type": "display_data",
          "data": {
            "image/png": "[encoded data removed]",
            "text/plain": [
              "<Figure size 432x288 with 1 Axes>"
            ]
          },
          "metadata": {
            "tags": [],
            "needs_background": "light"
          }
        }
      ]
    },
    {
      "cell_type": "code",
      "metadata": {
        "id": "2C_i9oBaSaDs",
        "colab_type": "code",
        "colab": {},
        "outputId": "f2f3819e-67a4-4dfc-e9b5-38d213751b4e"
      },
      "source": [
        "data.book_table.value_counts()"
      ],
      "execution_count": 0,
      "outputs": [
        {
          "output_type": "execute_result",
          "data": {
            "text/plain": [
              "No     36231\n",
              "Yes     5142\n",
              "Name: book_table, dtype: int64"
            ]
          },
          "metadata": {
            "tags": []
          },
          "execution_count": 56
        }
      ]
    },
    {
      "cell_type": "code",
      "metadata": {
        "id": "eTzqKgrXSaD1",
        "colab_type": "code",
        "colab": {},
        "outputId": "e8aa43fb-6c6f-476b-c508-e4556300508b"
      },
      "source": [
        "print(sns.countplot(x=data['book_table']))"
      ],
      "execution_count": 0,
      "outputs": [
        {
          "output_type": "stream",
          "text": [
            "AxesSubplot(0.125,0.125;0.775x0.755)\n"
          ],
          "name": "stdout"
        },
        {
          "output_type": "display_data",
          "data": {
            "image/png": "[encoded data removed]",
            "text/plain": [
              "<Figure size 432x288 with 1 Axes>"
            ]
          },
          "metadata": {
            "tags": [],
            "needs_background": "light"
          }
        }
      ]
    },
    {
      "cell_type": "code",
      "metadata": {
        "id": "0Q3Z79YRSaD7",
        "colab_type": "code",
        "colab": {},
        "outputId": "6bc42e0a-6daf-444a-fd19-63576d3e36fd"
      },
      "source": [
        "data[\"listed_in(type)\"].value_counts()"
      ],
      "execution_count": 0,
      "outputs": [
        {
          "output_type": "execute_result",
          "data": {
            "text/plain": [
              "Delivery              20778\n",
              "Dine-out              14224\n",
              "Desserts               2838\n",
              "Cafes                  1387\n",
              "Drinks & nightlife      885\n",
              "Buffet                  699\n",
              "Pubs and bars           562\n",
              "Name: listed_in(type), dtype: int64"
            ]
          },
          "metadata": {
            "tags": []
          },
          "execution_count": 66
        }
      ]
    },
    {
      "cell_type": "code",
      "metadata": {
        "id": "llMtNSycSaEA",
        "colab_type": "code",
        "colab": {},
        "outputId": "8f143fe2-4e0d-4b44-b047-00a28c606f7c"
      },
      "source": [
        "#data.rates.nunique()\n",
        "chart=sns.countplot(x=data['listed_in(type)'])\n",
        "print(chart.set_xticklabels(chart.get_xticklabels(), rotation=45))"
      ],
      "execution_count": 0,
      "outputs": [
        {
          "output_type": "stream",
          "text": [
            "[Text(0, 0, 'Delivery'), Text(0, 0, 'Dine-out'), Text(0, 0, 'Drinks & nightlife'), Text(0, 0, 'Desserts'), Text(0, 0, 'Cafes'), Text(0, 0, 'Pubs and bars'), Text(0, 0, 'Buffet')]\n"
          ],
          "name": "stdout"
        },
        {
          "output_type": "display_data",
          "data": {
            "image/png": "[encoded data removed]",
            "text/plain": [
              "<Figure size 432x288 with 1 Axes>"
            ]
          },
          "metadata": {
            "tags": [],
            "needs_background": "light"
          }
        }
      ]
    },
    {
      "cell_type": "markdown",
      "metadata": {
        "id": "SjxuEUhSSaEF",
        "colab_type": "text"
      },
      "source": [
        "## Data Cleaning and Preprocessing"
      ]
    },
    {
      "cell_type": "code",
      "metadata": {
        "id": "rmMl7DA9SaEI",
        "colab_type": "code",
        "colab": {}
      },
      "source": [
        "#Converting cost to float\n",
        "data=data.rename(columns={\"approx_cost(for two people)\":\"cost\" })\n",
        "data['cost'] = data['cost'].str.replace(',','').astype(float)"
      ],
      "execution_count": 0,
      "outputs": []
    },
    {
      "cell_type": "code",
      "metadata": {
        "id": "0eJD1VjRSaEM",
        "colab_type": "code",
        "colab": {}
      },
      "source": [
        "#Converting votes to numeric\n",
        "data[\"votes\"] = data[\"votes\"].apply(pd.to_numeric)"
      ],
      "execution_count": 0,
      "outputs": []
    },
    {
      "cell_type": "code",
      "metadata": {
        "id": "qDqQgOixSaES",
        "colab_type": "code",
        "colab": {}
      },
      "source": [
        "#Removing noise from rates and convert to float\n",
        "data = data.loc[data.rates !='-'].reset_index(drop=True)\n",
        "data[\"rates\"] = data[\"rates\"].astype('float')"
      ],
      "execution_count": 0,
      "outputs": []
    },
    {
      "cell_type": "code",
      "metadata": {
        "id": "x_76mqN-SaEX",
        "colab_type": "code",
        "colab": {}
      },
      "source": [
        "#Filling null values in rates\n",
        "data[\"rates\"]=data['rates'].fillna(data['rates'].mean())"
      ],
      "execution_count": 0,
      "outputs": []
    },
    {
      "cell_type": "code",
      "metadata": {
        "id": "_fSGuIwRSaEc",
        "colab_type": "code",
        "colab": {}
      },
      "source": [
        "#Filling null values in cost\n",
        "data[\"cost\"]=data['cost'].fillna(data['cost'].mean())"
      ],
      "execution_count": 0,
      "outputs": []
    },
    {
      "cell_type": "code",
      "metadata": {
        "id": "tJhlr8mNSaEj",
        "colab_type": "code",
        "colab": {}
      },
      "source": [
        "#Converting online_order and book_table column to Boolean type\n",
        "data.online_order.replace(('Yes','No'),(True, False),inplace=True)\n",
        "data.book_table.replace(('Yes','No'),(True, False),inplace=True)"
      ],
      "execution_count": 0,
      "outputs": []
    },
    {
      "cell_type": "code",
      "metadata": {
        "id": "_fM7DxlOSaEo",
        "colab_type": "code",
        "colab": {}
      },
      "source": [
        "#Encoding categorical variable using factorize method\n",
        "for column in data.columns[~data.columns.isin(['rates', 'cost', 'votes'])]:\n",
        "    data[column] = data[column].factorize()[0]"
      ],
      "execution_count": 0,
      "outputs": []
    },
    {
      "cell_type": "code",
      "metadata": {
        "id": "Kj05wId1SaEt",
        "colab_type": "code",
        "colab": {},
        "outputId": "0afbcd38-6745-4e4e-e9f8-a76e68841874"
      },
      "source": [
        "data.head()"
      ],
      "execution_count": 0,
      "outputs": [
        {
          "output_type": "execute_result",
          "data": {
            "text/html": [
              "<div>\n",
              "<style scoped>\n",
              "    .dataframe tbody tr th:only-of-type {\n",
              "        vertical-align: middle;\n",
              "    }\n",
              "\n",
              "    .dataframe tbody tr th {\n",
              "        vertical-align: top;\n",
              "    }\n",
              "\n",
              "    .dataframe thead th {\n",
              "        text-align: right;\n",
              "    }\n",
              "</style>\n",
              "<table border=\"1\" class=\"dataframe\">\n",
              "  <thead>\n",
              "    <tr style=\"text-align: right;\">\n",
              "      <th></th>\n",
              "      <th>url</th>\n",
              "      <th>address</th>\n",
              "      <th>name</th>\n",
              "      <th>online_order</th>\n",
              "      <th>book_table</th>\n",
              "      <th>votes</th>\n",
              "      <th>phone</th>\n",
              "      <th>location</th>\n",
              "      <th>rest_type</th>\n",
              "      <th>dish_liked</th>\n",
              "      <th>cuisines</th>\n",
              "      <th>approx_cost(for two people)</th>\n",
              "      <th>reviews_list</th>\n",
              "      <th>menu_item</th>\n",
              "      <th>listed_in(type)</th>\n",
              "      <th>listed_in(city)</th>\n",
              "      <th>rates</th>\n",
              "    </tr>\n",
              "  </thead>\n",
              "  <tbody>\n",
              "    <tr>\n",
              "      <th>0</th>\n",
              "      <td>0</td>\n",
              "      <td>0</td>\n",
              "      <td>0</td>\n",
              "      <td>0</td>\n",
              "      <td>0</td>\n",
              "      <td>13</td>\n",
              "      <td>0</td>\n",
              "      <td>0</td>\n",
              "      <td>0</td>\n",
              "      <td>-1</td>\n",
              "      <td>0</td>\n",
              "      <td>0</td>\n",
              "      <td>0</td>\n",
              "      <td>0</td>\n",
              "      <td>0</td>\n",
              "      <td>0</td>\n",
              "      <td>3.1</td>\n",
              "    </tr>\n",
              "    <tr>\n",
              "      <th>1</th>\n",
              "      <td>1</td>\n",
              "      <td>1</td>\n",
              "      <td>1</td>\n",
              "      <td>1</td>\n",
              "      <td>1</td>\n",
              "      <td>5015</td>\n",
              "      <td>1</td>\n",
              "      <td>1</td>\n",
              "      <td>1</td>\n",
              "      <td>0</td>\n",
              "      <td>1</td>\n",
              "      <td>1</td>\n",
              "      <td>1</td>\n",
              "      <td>1</td>\n",
              "      <td>1</td>\n",
              "      <td>1</td>\n",
              "      <td>4.6</td>\n",
              "    </tr>\n",
              "    <tr>\n",
              "      <th>2</th>\n",
              "      <td>2</td>\n",
              "      <td>2</td>\n",
              "      <td>2</td>\n",
              "      <td>1</td>\n",
              "      <td>0</td>\n",
              "      <td>6</td>\n",
              "      <td>2</td>\n",
              "      <td>2</td>\n",
              "      <td>0</td>\n",
              "      <td>-1</td>\n",
              "      <td>2</td>\n",
              "      <td>2</td>\n",
              "      <td>2</td>\n",
              "      <td>1</td>\n",
              "      <td>1</td>\n",
              "      <td>2</td>\n",
              "      <td>3.4</td>\n",
              "    </tr>\n",
              "    <tr>\n",
              "      <th>3</th>\n",
              "      <td>3</td>\n",
              "      <td>3</td>\n",
              "      <td>3</td>\n",
              "      <td>1</td>\n",
              "      <td>0</td>\n",
              "      <td>699</td>\n",
              "      <td>3</td>\n",
              "      <td>3</td>\n",
              "      <td>2</td>\n",
              "      <td>1</td>\n",
              "      <td>3</td>\n",
              "      <td>3</td>\n",
              "      <td>3</td>\n",
              "      <td>1</td>\n",
              "      <td>1</td>\n",
              "      <td>0</td>\n",
              "      <td>4.3</td>\n",
              "    </tr>\n",
              "    <tr>\n",
              "      <th>4</th>\n",
              "      <td>4</td>\n",
              "      <td>4</td>\n",
              "      <td>4</td>\n",
              "      <td>0</td>\n",
              "      <td>0</td>\n",
              "      <td>129</td>\n",
              "      <td>4</td>\n",
              "      <td>4</td>\n",
              "      <td>3</td>\n",
              "      <td>-1</td>\n",
              "      <td>4</td>\n",
              "      <td>4</td>\n",
              "      <td>4</td>\n",
              "      <td>2</td>\n",
              "      <td>0</td>\n",
              "      <td>1</td>\n",
              "      <td>3.7</td>\n",
              "    </tr>\n",
              "  </tbody>\n",
              "</table>\n",
              "</div>"
            ],
            "text/plain": [
              "   url  address  name  online_order  book_table  votes  phone  location  \\\n",
              "0    0        0     0             0           0     13      0         0   \n",
              "1    1        1     1             1           1   5015      1         1   \n",
              "2    2        2     2             1           0      6      2         2   \n",
              "3    3        3     3             1           0    699      3         3   \n",
              "4    4        4     4             0           0    129      4         4   \n",
              "\n",
              "   rest_type  dish_liked  cuisines  approx_cost(for two people)  reviews_list  \\\n",
              "0          0          -1         0                            0             0   \n",
              "1          1           0         1                            1             1   \n",
              "2          0          -1         2                            2             2   \n",
              "3          2           1         3                            3             3   \n",
              "4          3          -1         4                            4             4   \n",
              "\n",
              "   menu_item  listed_in(type)  listed_in(city) rates  \n",
              "0          0                0                0  3.1   \n",
              "1          1                1                1  4.6   \n",
              "2          1                1                2  3.4   \n",
              "3          1                1                0  4.3   \n",
              "4          2                0                1  3.7   "
            ]
          },
          "metadata": {
            "tags": []
          },
          "execution_count": 97
        }
      ]
    },
    {
      "cell_type": "code",
      "metadata": {
        "id": "xTS4lNMHSaE1",
        "colab_type": "code",
        "colab": {}
      },
      "source": [
        "#Selecting important features\n",
        "data=data[[\"online_order\",\"book_table\",\"votes\",\n",
        "         \"rest_type\",\"cost\",\"rates\"]]"
      ],
      "execution_count": 0,
      "outputs": []
    },
    {
      "cell_type": "code",
      "metadata": {
        "id": "fYcRM2QiSaE5",
        "colab_type": "code",
        "colab": {},
        "outputId": "1d4ccb51-365a-4cbb-9391-df51673c0fd3"
      },
      "source": [
        "data.isnull().sum()"
      ],
      "execution_count": 0,
      "outputs": [
        {
          "output_type": "execute_result",
          "data": {
            "text/plain": [
              "online_order    0\n",
              "book_table      0\n",
              "votes           0\n",
              "rest_type       0\n",
              "cost            0\n",
              "rates           0\n",
              "dtype: int64"
            ]
          },
          "metadata": {
            "tags": []
          },
          "execution_count": 19
        }
      ]
    },
    {
      "cell_type": "code",
      "metadata": {
        "id": "xbOHDZWYSaE-",
        "colab_type": "code",
        "colab": {},
        "outputId": "b7debdfa-cc9a-42e0-8f05-d865b2c8339b"
      },
      "source": [
        "data.info()"
      ],
      "execution_count": 0,
      "outputs": [
        {
          "output_type": "stream",
          "text": [
            "<class 'pandas.core.frame.DataFrame'>\n",
            "RangeIndex: 41317 entries, 0 to 41316\n",
            "Data columns (total 6 columns):\n",
            "online_order    41317 non-null int64\n",
            "book_table      41317 non-null int64\n",
            "votes           41317 non-null int64\n",
            "rest_type       41317 non-null int64\n",
            "cost            41317 non-null float64\n",
            "rates           41317 non-null float64\n",
            "dtypes: float64(2), int64(4)\n",
            "memory usage: 1.9 MB\n"
          ],
          "name": "stdout"
        }
      ]
    },
    {
      "cell_type": "markdown",
      "metadata": {
        "id": "_nbqyTAzSaFC",
        "colab_type": "text"
      },
      "source": [
        "## Defining dependent and independent variables of model\n"
      ]
    },
    {
      "cell_type": "code",
      "metadata": {
        "id": "WKv6kgS-SaFH",
        "colab_type": "code",
        "colab": {}
      },
      "source": [
        "y = data['rates'].values   #dependent\n",
        "X = data.drop('rates', axis=1).values   #independent"
      ],
      "execution_count": 0,
      "outputs": []
    },
    {
      "cell_type": "code",
      "metadata": {
        "id": "snQuhPzsSaFL",
        "colab_type": "code",
        "colab": {}
      },
      "source": [
        "#Spliting data in testing and training\n",
        "from sklearn.model_selection import train_test_split\n",
        "X_train, X_test, y_train, y_test = train_test_split(X,y,random_state=0)"
      ],
      "execution_count": 0,
      "outputs": []
    },
    {
      "cell_type": "code",
      "metadata": {
        "id": "XFCVBKZsSaFS",
        "colab_type": "code",
        "colab": {},
        "outputId": "c55cdadd-56f6-4a42-d5a5-08757be02bfb"
      },
      "source": [
        "#Fitting regression model\n",
        "from sklearn.linear_model import LinearRegression\n",
        "lr = LinearRegression()\n",
        "lr.fit(X_train, y_train)\n",
        "y_pred = lr.predict(X_test)\n",
        "lr.score(X_test, y_test)"
      ],
      "execution_count": 0,
      "outputs": [
        {
          "output_type": "execute_result",
          "data": {
            "text/plain": [
              "0.26163448091363395"
            ]
          },
          "metadata": {
            "tags": []
          },
          "execution_count": 98
        }
      ]
    },
    {
      "cell_type": "code",
      "metadata": {
        "id": "DIC1oJKjSaFX",
        "colab_type": "code",
        "colab": {},
        "outputId": "528a239b-0fb6-47be-e19e-5a244afd9533"
      },
      "source": [
        "#Fitting Random Forest Classifier\n",
        "from sklearn.ensemble import RandomForestRegressor\n",
        "RForest=RandomForestRegressor(n_estimators=500)\n",
        "RForest.fit(X_train,y_train)\n",
        "y_predict=RForest.predict(X_test)\n",
        "print(RForest.score(X_test, y_test))"
      ],
      "execution_count": 0,
      "outputs": [
        {
          "output_type": "stream",
          "text": [
            "0.7629955266499993\n"
          ],
          "name": "stdout"
        }
      ]
    },
    {
      "cell_type": "code",
      "metadata": {
        "id": "rTmEz_etSaFc",
        "colab_type": "code",
        "colab": {},
        "outputId": "05397ea3-ca68-4ee2-a0e7-8a0e994a06f8"
      },
      "source": [
        "#Fitting ensemble model to improve accuracy\n",
        "from sklearn.ensemble import  ExtraTreesRegressor\n",
        "ETree=ExtraTreesRegressor(n_estimators = 100)\n",
        "ETree.fit(X_train,y_train)\n",
        "y_predict=ETree.predict(X_test)\n",
        "print(ETree.score(X_test, y_test))"
      ],
      "execution_count": 0,
      "outputs": [
        {
          "output_type": "stream",
          "text": [
            "0.7742436118135421\n"
          ],
          "name": "stdout"
        }
      ]
    }
  ]
}